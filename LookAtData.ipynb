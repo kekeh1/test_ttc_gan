{
 "cells": [
  {
   "cell_type": "code",
   "execution_count": 53,
   "metadata": {},
   "source": [
    "import numpy as np\n",
    "import pandas as pd\n",
    "import matplotlib.pyplot as plt\n",
    "import seaborn as sns"
   ],
   "outputs": []
  },
  {
   "cell_type": "code",
   "execution_count": 54,
   "metadata": {},
   "source": [
    "data_train = pd.read_csv('./mitbih_train.csv', header=None)\n",
    "data_test = pd.read_csv('./mitbih_test.csv', header=None)"
   ],
   "outputs": []
  },
  {
   "cell_type": "code",
   "execution_count": 55,
   "metadata": {},
   "source": [
    "data_train.isnull().sum().to_numpy()\n",
    "data_test.isnull().sum().to_numpy()"
   ],
   "outputs": []
  },
  {
   "cell_type": "code",
   "execution_count": 56,
   "metadata": {},
   "source": [
    "data_train"
   ],
   "outputs": []
  },
  {
   "cell_type": "code",
   "execution_count": 57,
   "metadata": {},
   "source": [
    "data_test"
   ],
   "outputs": []
  },
  {
   "cell_type": "code",
   "execution_count": 58,
   "metadata": {},
   "source": [
    "# viewing the distribution of beats in our dataset \n",
    "plt.figure(figsize=(10, 8))\n",
    "circle = plt.Circle((0, 0), 0.7, color='white')\n",
    "plt.pie(data_train[187].value_counts(), labels=['Non-Ectopic Beats', 'Superventrical Ectopic', 'Ventricular Beats',\n",
    "                                                'Unknown', 'Fusion Beats'], colors=['blue', 'magenta', 'cyan', \n",
    "                                                                                   'red', 'grey'])\n",
    "p = plt.gcf()\n",
    "p.gca().add_artist(circle)"
   ],
   "outputs": []
  },
  {
   "cell_type": "code",
   "execution_count": 59,
   "metadata": {},
   "source": [
    "# making the class labels for our dataset\n",
    "data_0 = data_train[data_train[187] == 0]\n",
    "data_1 = data_train[data_train[187] == 1]\n",
    "data_2 = data_train[data_train[187] == 2]\n",
    "data_3 = data_train[data_train[187] == 3]\n",
    "data_4 = data_train[data_train[187] == 4]"
   ],
   "outputs": []
  },
  {
   "cell_type": "code",
   "execution_count": 60,
   "metadata": {},
   "source": [
    "sns.set_style('darkgrid')\n",
    "plt.figure(figsize=(10, 5))\n",
    "plt.plot(data_0.iloc[0, 0:150], color='blue', label='Normal')\n",
    "plt.plot(data_1.iloc[0, 0:150], color='magenta', label='Supraventricular')\n",
    "plt.plot(data_2.iloc[0, 0:150], color='cyan', label='Ventricular')\n",
    "plt.plot(data_3.iloc[0, 0:150], color='red', label='Unknown')\n",
    "plt.plot(data_4.iloc[0, 0:150], color='grey', label='Fusion')\n",
    "plt.xlabel('Time')\n",
    "plt.ylabel('Amplitude')\n",
    "plt.title('Real ECG signals')\n",
    "plt.legend()\n",
    "plt.savefig('Real_ECG_signals.pdf')"
   ],
   "outputs": []
  },
  {
   "cell_type": "code",
   "execution_count": 61,
   "metadata": {},
   "source": [
    "import scipy.io\n",
    "import numpy as np\n",
    "\n",
    "file_path = 'data.mat'\n",
    "scipy.io.savemat(file_path, {'data_0': data_0.iloc[:, 0:187].to_numpy(),\n",
    "                            'data_1': data_1.iloc[:, 0:187].to_numpy(),\n",
    "                            'data_2': data_2.iloc[:, 0:187].to_numpy(),\n",
    "                            'data_3': data_3.iloc[:, 0:187].to_numpy(),\n",
    "                            'data_4': data_4.iloc[:, 0:187].to_numpy()})\n",
    "# file_path = 'data_1.mat'\n",
    "# scipy.io.savemat(file_path, {'data_1': data_0.iloc[0, 0:187].to_numpy()})\n",
    "# file_path = 'data_2.mat'\n",
    "# scipy.io.savemat(file_path, {'data_2': data_0.iloc[0, 0:187].to_numpy()})\n",
    "# file_path = 'data_3.mat'\n",
    "# scipy.io.savemat(file_path, {'data_3': data_0.iloc[0, 0:187].to_numpy()})\n",
    "# file_path = 'data_4.mat'\n",
    "# scipy.io.savemat(file_path, {'data_4': data_0.iloc[0, 0:187].to_numpy()})"
   ],
   "outputs": []
  },
  {
   "cell_type": "code",
   "execution_count": null,
   "metadata": {},
   "source": [],
   "outputs": []
  },
  {
   "cell_type": "markdown",
   "metadata": {},
   "source": [
    "### data resampling"
   ]
  },
  {
   "cell_type": "code",
   "execution_count": 62,
   "metadata": {},
   "source": [
    "from sklearn.utils import resample\n",
    "data_0_resample = resample(data_0, n_samples=20000, \n",
    "                           random_state=123, replace=True)\n",
    "data_1_resample = resample(data_1, n_samples=20000, \n",
    "                           random_state=123, replace=True)\n",
    "data_2_resample = resample(data_2, n_samples=20000, \n",
    "                           random_state=123, replace=True)\n",
    "data_3_resample = resample(data_3, n_samples=20000, \n",
    "                           random_state=123, replace=True)\n",
    "data_4_resample = resample(data_4, n_samples=20000, \n",
    "                           random_state=123, replace=True)"
   ],
   "outputs": []
  },
  {
   "cell_type": "code",
   "execution_count": 63,
   "metadata": {},
   "source": [
    "train_dataset = pd.concat([data_0_resample, data_1_resample, data_2_resample, data_3_resample, \n",
    "                          data_4_resample])"
   ],
   "outputs": []
  },
  {
   "cell_type": "code",
   "execution_count": 64,
   "metadata": {},
   "source": [
    "# viewing the distribution of beats in our dataset \n",
    "plt.figure(figsize=(10, 8))\n",
    "circle = plt.Circle((0, 0), 0.7, color='white')\n",
    "plt.pie(train_dataset[187].value_counts(), labels=['Non-Ectopic Beats', 'Superventrical Ectopic', 'Ventricular Beats',\n",
    "                                                'Unknown', 'Fusion Beats'], colors=['blue', 'magenta', 'cyan', \n",
    "                                                                                   'red', 'grey'])\n",
    "p = plt.gcf()\n",
    "p.gca().add_artist(circle)"
   ],
   "outputs": []
  },
  {
   "cell_type": "code",
   "execution_count": 65,
   "metadata": {},
   "source": [
    "def plot_heartbeat(data, classname):\n",
    "    fig, axs = plt.subplots(2, 5, figsize=(20,5))\n",
    "    fig.suptitle(f'HeartBeat {classname}', fontsize=15)\n",
    "    for i in range(2):\n",
    "        for j in range(5):\n",
    "            axs[i, j].plot(data.iloc[i*5+j, 0:187])"
   ],
   "outputs": []
  },
  {
   "cell_type": "code",
   "execution_count": 66,
   "metadata": {},
   "source": [
    "plot_heartbeat(data_0, 'Normal Heartbeats')"
   ],
   "outputs": []
  },
  {
   "cell_type": "code",
   "execution_count": 67,
   "metadata": {},
   "source": [
    "sns.set_style('darkgrid')\n",
    "plt.figure(figsize=(10, 5))\n",
    "plt.plot(data_0.iloc[0, 0:187], color='blue')\n",
    "plt.plot(data_0.iloc[1, 0:187], color='magenta')\n",
    "plt.plot(data_0.iloc[2, 0:187], color='cyan')\n",
    "plt.plot(data_0.iloc[3, 0:187], color='red')\n",
    "plt.plot(data_0.iloc[4, 0:187], color='grey')\n",
    "plt.title('Normal Heartbeats')\n",
    "plt.xlabel('Time')\n",
    "plt.ylabel('Amplitude')\n",
    "plt.legend()"
   ],
   "outputs": []
  },
  {
   "cell_type": "code",
   "execution_count": 68,
   "metadata": {},
   "source": [
    "plot_heartbeat(data_1, 'Superventrical Ectopic')"
   ],
   "outputs": []
  },
  {
   "cell_type": "code",
   "execution_count": 69,
   "metadata": {},
   "source": [
    "sns.set_style('darkgrid')\n",
    "plt.figure(figsize=(10, 5))\n",
    "plt.plot(data_1.iloc[0, 0:187], color='blue')\n",
    "plt.plot(data_1.iloc[1, 0:187], color='magenta')\n",
    "plt.plot(data_1.iloc[2, 0:187], color='cyan')\n",
    "plt.plot(data_1.iloc[3, 0:187], color='red')\n",
    "plt.plot(data_1.iloc[4, 0:187], color='grey')\n",
    "plt.title('Superventrical Ectopic')\n",
    "plt.xlabel('Time')\n",
    "plt.ylabel('Amplitude')\n",
    "plt.legend()"
   ],
   "outputs": []
  },
  {
   "cell_type": "code",
   "execution_count": 70,
   "metadata": {},
   "source": [
    "plot_heartbeat(data_2, 'Ventricular Beats')"
   ],
   "outputs": []
  },
  {
   "cell_type": "code",
   "execution_count": 71,
   "metadata": {},
   "source": [
    "sns.set_style('darkgrid')\n",
    "plt.figure(figsize=(10, 5))\n",
    "plt.plot(data_2.iloc[0, 0:187], color='blue')\n",
    "plt.plot(data_2.iloc[1, 0:187], color='magenta')\n",
    "plt.plot(data_2.iloc[2, 0:187], color='cyan')\n",
    "plt.plot(data_2.iloc[3, 0:187], color='red')\n",
    "plt.plot(data_2.iloc[4, 0:187], color='grey')\n",
    "plt.title('Ventricular Beats')\n",
    "plt.xlabel('Time')\n",
    "plt.ylabel('Amplitude')\n",
    "plt.legend()\n"
   ],
   "outputs": []
  },
  {
   "cell_type": "code",
   "execution_count": 72,
   "metadata": {},
   "source": [
    "plot_heartbeat(data_3, 'Unknown')"
   ],
   "outputs": []
  },
  {
   "cell_type": "code",
   "execution_count": 73,
   "metadata": {},
   "source": [
    "sns.set_style('darkgrid')\n",
    "plt.figure(figsize=(10, 5))\n",
    "plt.plot(data_3.iloc[0, 0:187], color='blue')\n",
    "plt.plot(data_3.iloc[1, 0:187], color='magenta')\n",
    "plt.plot(data_3.iloc[2, 0:187], color='cyan')\n",
    "plt.plot(data_3.iloc[3, 0:187], color='red')\n",
    "plt.plot(data_3.iloc[4, 0:187], color='grey')\n",
    "plt.title('Unknown')\n",
    "plt.xlabel('Time')\n",
    "plt.ylabel('Amplitude')\n",
    "plt.legend()\n"
   ],
   "outputs": []
  },
  {
   "cell_type": "code",
   "execution_count": 74,
   "metadata": {},
   "source": [
    "plot_heartbeat(data_4, 'Fusion Beats')"
   ],
   "outputs": []
  },
  {
   "cell_type": "code",
   "execution_count": 75,
   "metadata": {},
   "source": [
    "sns.set_style('darkgrid')\n",
    "plt.figure(figsize=(10, 5))\n",
    "plt.plot(data_4.iloc[0, 0:187], color='blue')\n",
    "plt.plot(data_4.iloc[1, 0:187], color='magenta')\n",
    "plt.plot(data_4.iloc[2, 0:187], color='cyan')\n",
    "plt.plot(data_4.iloc[3, 0:187], color='red')\n",
    "plt.plot(data_4.iloc[4, 0:187], color='grey')\n",
    "plt.title('Fusion Beats')\n",
    "plt.xlabel('Time')\n",
    "plt.ylabel('Amplitude')\n",
    "plt.legend()"
   ],
   "outputs": []
  },
  {
   "cell_type": "code",
   "execution_count": 78,
   "metadata": {},
   "source": [
    "sns.set_style('white')\n",
    "fig, axs = plt.subplots(1, 4, figsize=(15,5))\n",
    "fig.suptitle('Fusion Beats', fontsize=20)\n",
    "axs[0].plot(data_4.iloc[0, 0:187])\n",
    "axs[1].plot(data_4.iloc[1, 0:187])\n",
    "axs[2].plot(data_4.iloc[2, 0:187])\n",
    "axs[3].plot(data_4.iloc[3, 0:187])\n",
    "plt.savefig(\"./RealFusionBeats.pdf\", format=\"pdf\")"
   ],
   "outputs": []
  },
  {
   "cell_type": "code",
   "execution_count": 79,
   "metadata": {},
   "source": [
    "fig, axs = plt.subplots(1, 4, figsize=(15,5))\n",
    "fig.suptitle('Ventricular Beats', fontsize=20)\n",
    "axs[0].plot(data_2.iloc[0, 0:187])\n",
    "axs[1].plot(data_2.iloc[1, 0:187])\n",
    "axs[2].plot(data_2.iloc[2, 0:187])\n",
    "axs[3].plot(data_2.iloc[3, 0:187])\n",
    "plt.savefig(\"./RealVentricularBeats.pdf\", format=\"pdf\")"
   ],
   "outputs": []
  },
  {
   "cell_type": "code",
   "execution_count": 40,
   "metadata": {},
   "source": [
    "def plot_hist(data,start,size,bins):\n",
    "    sigs=data.iloc[:, start:size].to_numpy()\n",
    "#     end = start+size\n",
    "#     sigs=sigs[:,start:end]\n",
    "    sigs_flatten=sigs.flatten()\n",
    "\n",
    "    final1=np.arange(start,size)\n",
    "    for i in range (sigs.shape[0]-1):\n",
    "        tempo1=np.arange(start,size)\n",
    "        final1=np.concatenate((final1, tempo1), axis=None)\n",
    "    print(len(final1))\n",
    "    print(len(sigs_flatten))\n",
    "    plt.hist2d(final1,sigs_flatten, bins=(bins,bins),cmap=plt.cm.jet)\n",
    "    plt.show()"
   ],
   "outputs": []
  },
  {
   "cell_type": "code",
   "execution_count": 52,
   "metadata": {},
   "source": [
    "plot_hist(data_1,5,70,65)"
   ],
   "outputs": []
  },
  {
   "cell_type": "code",
   "execution_count": 61,
   "metadata": {},
   "source": [
    "target_train = train_dataset[187]\n",
    "target_test = data_test[187]\n",
    "target_train.unique()"
   ],
   "outputs": []
  },
  {
   "cell_type": "code",
   "execution_count": 62,
   "metadata": {},
   "source": [
    "# making train & test splits\n",
    "X_train = train_dataset.iloc[:, :-1].values\n",
    "X_test = data_test.iloc[:, :-1].values"
   ],
   "outputs": []
  },
  {
   "cell_type": "code",
   "execution_count": 63,
   "metadata": {},
   "source": [
    "print(X_train.shape)\n",
    "print(X_test.shape)\n",
    "print(target_train.shape)\n",
    "print(target_test.shape)"
   ],
   "outputs": []
  },
  {
   "cell_type": "code",
   "execution_count": 11,
   "metadata": {},
   "source": [
    "from DataLoader import *\n",
    "from torch.utils import data"
   ],
   "outputs": []
  },
  {
   "cell_type": "code",
   "execution_count": 13,
   "metadata": {},
   "source": [
    "train_data = mitbih_train()"
   ],
   "outputs": []
  },
  {
   "cell_type": "code",
   "execution_count": 14,
   "metadata": {},
   "source": [
    "train_loader = data.DataLoader(train_data, batch_size=32, num_workers=4, shuffle=True)"
   ],
   "outputs": []
  },
  {
   "cell_type": "code",
   "execution_count": 15,
   "metadata": {},
   "source": [
    "test_data = mitbih_test()"
   ],
   "outputs": []
  },
  {
   "cell_type": "code",
   "execution_count": 16,
   "metadata": {},
   "source": [
    "test_loader = data.DataLoader(test_data, batch_size=32, num_workers=4, shuffle=True)"
   ],
   "outputs": []
  },
  {
   "cell_type": "code",
   "execution_count": 80,
   "metadata": {},
   "source": [
    "import matplotlib.pyplot as plt\n",
    "from TransCGAN_model import *"
   ],
   "outputs": []
  },
  {
   "cell_type": "code",
   "execution_count": 81,
   "metadata": {},
   "source": [
    "patch_size = 1\n",
    "seq_len = 187\n",
    "\n",
    "# cgan model trained use wassertein loss \n",
    "CGAN_model_path = './mitbih_checkpoint'"
   ],
   "outputs": []
  },
  {
   "cell_type": "code",
   "execution_count": 82,
   "metadata": {},
   "source": [
    "gen_net = Generator(seq_len=seq_len, channels=1, num_classes=5, latent_dim=100, data_embed_dim=10, \n",
    "                    label_embed_dim=10 ,depth=3, num_heads=5, \n",
    "                    forward_drop_rate=0.5, attn_drop_rate=0.5)"
   ],
   "outputs": []
  },
  {
   "cell_type": "code",
   "execution_count": 83,
   "metadata": {},
   "source": [
    "CGAN_ckp = torch.load(CGAN_model_path)\n",
    "gen_net.load_state_dict(CGAN_ckp['gen_state_dict'])"
   ],
   "outputs": []
  },
  {
   "cell_type": "code",
   "execution_count": 36,
   "metadata": {},
   "source": [
    "synthetic_data = [] \n",
    "synthetic_labels = []\n",
    "\n",
    "for i in range(10):\n",
    "    fake_noise = torch.FloatTensor(np.random.normal(0, 1, (1, 100)))\n",
    "    fake_label = torch.randint(0, 5, (1,))\n",
    "    fake_sigs = gen_net(fake_noise, fake_label).to('cpu').detach().numpy()\n",
    "\n",
    "    synthetic_data.append(fake_sigs)\n",
    "    synthetic_labels.append(fake_label)\n",
    "\n",
    "fig, axs = plt.subplots(2, 5, figsize=(20,5))\n",
    "fig.suptitle(f'Synthetic UniMiB Data', fontsize=15)\n",
    "for i in range(2):\n",
    "    for j in range(5):\n",
    "        axs[i, j].plot(synthetic_data[i*5+j][0][0][0][:])\n",
    "        axs[i, j].title.set_text(synthetic_labels[i*5+j])"
   ],
   "outputs": []
  },
  {
   "cell_type": "code",
   "execution_count": 51,
   "metadata": {},
   "source": [
    "#plot synthetic signals in a plot\n",
    "fake_noise = torch.FloatTensor(np.random.normal(0, 1, (5, 100)))\n",
    "fake_label = torch.tensor([0, 1, 2, 3, 4])\n",
    "fake_sigs = gen_net(fake_noise, fake_label).to('cpu').detach().numpy()\n",
    "print(fake_sigs.shape)\n",
    "sns.set_style('darkgrid')\n",
    "plt.figure(figsize=(10, 5))\n",
    "plt.plot(fake_sigs[0][0][0][:150], color='blue', label='Normal')\n",
    "plt.plot(fake_sigs[1][0][0][:150], color='magenta', label='Supraventricular')\n",
    "plt.plot(fake_sigs[2][0][0][:150], color='cyan', label='Ventricular')\n",
    "plt.plot(fake_sigs[3][0][0][:150], color='red', label='Unknown')\n",
    "plt.plot(fake_sigs[4][0][0][:150], color='grey',label='Fusion')\n",
    "plt.xlabel('Time')\n",
    "plt.ylabel('Amplitude')\n",
    "plt.title('Real ECG signals')\n",
    "plt.legend()\n",
    "plt.savefig('Synthetic_ECG_signals.pdf')"
   ],
   "outputs": []
  },
  {
   "cell_type": "code",
   "execution_count": 84,
   "metadata": {},
   "source": [
    "class_dict = {'Non-Ectopic Beats':0, 'Superventrical Ectopic':1, 'Ventricular Beats':2, 'Unknown':3, 'Fusion Beats':4}\n",
    "def plot_synthetic_heartbeat(classname):\n",
    "    synthetic_data = [] \n",
    "    synthetic_labels = []\n",
    "    for i in range(10):\n",
    "        fake_noise = torch.FloatTensor(np.random.normal(0, 1, (1, 100)))\n",
    "        fake_label = torch.tensor([class_dict[classname]])\n",
    "        fake_sigs = gen_net(fake_noise, fake_label).to('cpu').detach().numpy()\n",
    "\n",
    "        synthetic_data.append(fake_sigs)\n",
    "        synthetic_labels.append(fake_label)\n",
    "\n",
    "    fig, axs = plt.subplots(2, 5, figsize=(20,5))\n",
    "    fig.suptitle(f'Synthetic HeartBeat {classname}', fontsize=15)\n",
    "    for i in range(2):\n",
    "        for j in range(5):\n",
    "            axs[i, j].plot(synthetic_data[i*5+j][0][0][0][:])\n",
    "            axs[i, j].title.set_text(synthetic_labels[i*5+j])"
   ],
   "outputs": []
  },
  {
   "cell_type": "code",
   "execution_count": 95,
   "metadata": {},
   "source": [
    "class_dict = {'Non-Ectopic Beats':0, 'Superventrical Ectopic':1, 'Ventricular Beats':2, 'Unknown':3, 'Fusion Beats':4}\n",
    "def plot_synthetic_heartbeat(classname):\n",
    "    synthetic_data = [] \n",
    "    synthetic_labels = []\n",
    "    for i in range(4):\n",
    "        fake_noise = torch.FloatTensor(np.random.normal(0, 1, (1, 100)))\n",
    "        fake_label = torch.tensor([class_dict[classname]])\n",
    "        fake_sigs = gen_net(fake_noise, fake_label).to('cpu').detach().numpy()\n",
    "\n",
    "        synthetic_data.append(fake_sigs)\n",
    "        synthetic_labels.append(fake_label)\n",
    "\n",
    "    fig, axs = plt.subplots(1, 4, figsize=(15,5))\n",
    "    fig.suptitle(f'Synthetic {classname}', fontsize=15)\n",
    "    for i in range(4):\n",
    "        axs[i].plot(synthetic_data[i][0][0][0][:])\n",
    "    plt.savefig(f'./syn_{classname}.pdf', format=\"pdf\")"
   ],
   "outputs": []
  },
  {
   "cell_type": "code",
   "execution_count": 96,
   "metadata": {},
   "source": [
    "plot_synthetic_heartbeat('Non-Ectopic Beats')"
   ],
   "outputs": []
  },
  {
   "cell_type": "code",
   "execution_count": 97,
   "metadata": {},
   "source": [
    "plot_synthetic_heartbeat('Superventrical Ectopic')"
   ],
   "outputs": []
  },
  {
   "cell_type": "code",
   "execution_count": 98,
   "metadata": {},
   "source": [
    "plot_synthetic_heartbeat('Ventricular Beats')"
   ],
   "outputs": []
  },
  {
   "cell_type": "code",
   "execution_count": null,
   "metadata": {},
   "source": [],
   "outputs": []
  },
  {
   "cell_type": "code",
   "execution_count": 99,
   "metadata": {},
   "source": [
    "plot_synthetic_heartbeat('Unknown')"
   ],
   "outputs": []
  },
  {
   "cell_type": "code",
   "execution_count": 100,
   "metadata": {},
   "source": [
    "plot_synthetic_heartbeat('Fusion Beats')"
   ],
   "outputs": []
  },
  {
   "cell_type": "code",
   "execution_count": 1,
   "metadata": {},
   "source": [
    "from synDataLoader import *\n",
    "from torch.utils import data"
   ],
   "outputs": []
  },
  {
   "cell_type": "code",
   "execution_count": 54,
   "metadata": {},
   "source": [
    "syn_ecg = syn_mitbih(n_samples=1000, reshape=True)"
   ],
   "outputs": []
  },
  {
   "cell_type": "code",
   "execution_count": 98,
   "metadata": {},
   "source": [
    "def plot_hist_syn(data,start,size,bins, filename=\"test_syn\"):\n",
    "    sigs=data[:, start:size]\n",
    "#     end = start+size\n",
    "#     sigs=sigs[:,start:end]\n",
    "    sigs_flatten=sigs.flatten()\n",
    "\n",
    "    final1=np.arange(start,size)\n",
    "    for i in range (sigs.shape[0]-1):\n",
    "        tempo1=np.arange(start,size)\n",
    "        final1=np.concatenate((final1, tempo1), axis=None)\n",
    "    print(len(final1))\n",
    "    print(len(sigs_flatten))\n",
    "    plt.hist2d(final1,sigs_flatten, bins=(bins,bins),cmap=plt.cm.jet)\n",
    "    plt.savefig(f'{filename}.pdf')\n",
    "    plt.show()"
   ],
   "outputs": []
  },
  {
   "cell_type": "code",
   "execution_count": 100,
   "metadata": {},
   "source": [
    "def plot_hist(data,start,size,bins, filename=\"test_real\"):\n",
    "    sigs=data.iloc[:, start:size].to_numpy()\n",
    "#     end = start+size\n",
    "#     sigs=sigs[:,start:end]\n",
    "    sigs_flatten=sigs.flatten()\n",
    "\n",
    "    final1=np.arange(start,size)\n",
    "    for i in range (sigs.shape[0]-1):\n",
    "        tempo1=np.arange(start,size)\n",
    "        final1=np.concatenate((final1, tempo1), axis=None)\n",
    "    print(len(final1))\n",
    "    print(len(sigs_flatten))\n",
    "    plt.hist2d(final1,sigs_flatten, bins=(bins,bins),cmap=plt.cm.jet)\n",
    "    plt.savefig(f'{filename}.pdf')\n",
    "    plt.show()"
   ],
   "outputs": []
  },
  {
   "cell_type": "code",
   "execution_count": 101,
   "metadata": {},
   "source": [
    "plot_hist(data_0[:1000],5,70,65, \"data_0_real\")"
   ],
   "outputs": []
  },
  {
   "cell_type": "code",
   "execution_count": 102,
   "metadata": {},
   "source": [
    "plot_hist_syn(syn_ecg.syn_0,5,70,65, \"data_0_syn\")"
   ],
   "outputs": []
  },
  {
   "cell_type": "code",
   "execution_count": 103,
   "metadata": {},
   "source": [
    "plot_hist_syn(syn_ecg.syn_1,5,50,45, \"data_1_syn\")"
   ],
   "outputs": []
  },
  {
   "cell_type": "code",
   "execution_count": 104,
   "metadata": {},
   "source": [
    "plot_hist(data_1[:1000],5,50,45, \"data_1_real\")"
   ],
   "outputs": []
  },
  {
   "cell_type": "code",
   "execution_count": 105,
   "metadata": {},
   "source": [
    "plot_hist_syn(syn_ecg.syn_2,5,50,45, \"data_2_syn\")"
   ],
   "outputs": []
  },
  {
   "cell_type": "code",
   "execution_count": 106,
   "metadata": {},
   "source": [
    "plot_hist(data_2[:1000],5,50,45, \"data_2_real\")"
   ],
   "outputs": []
  },
  {
   "cell_type": "code",
   "execution_count": 107,
   "metadata": {},
   "source": [
    "plot_hist_syn(syn_ecg.syn_3,15,60,45, \"data_3_syn\")"
   ],
   "outputs": []
  },
  {
   "cell_type": "code",
   "execution_count": 108,
   "metadata": {},
   "source": [
    "plot_hist(data_3[:1000],15,60,45, \"data_3_real\")"
   ],
   "outputs": []
  },
  {
   "cell_type": "code",
   "execution_count": 109,
   "metadata": {},
   "source": [
    "plot_hist(data_4[:1000],15,60,45, \"data_4_real\")"
   ],
   "outputs": []
  },
  {
   "cell_type": "code",
   "execution_count": 110,
   "metadata": {},
   "source": [
    "plot_hist_syn(syn_ecg.syn_4,15,60,45, \"data_4_syn\")"
   ],
   "outputs": []
  }
 ],
 "metadata": {
  "interpreter": {
   "hash": "31f2aee4e71d21fbe5cf8b01ff0e069b9275f58929596ceb00d14d90e3e16cd6"
  },
  "kernelspec": {
   "display_name": "Python 3.6.9 64-bit",
   "language": "python",
   "name": "python3"
  },
  "language_info": {
   "codemirror_mode": {
    "name": "ipython",
    "version": 3
   },
   "file_extension": ".py",
   "mimetype": "text/x-python",
   "name": "python",
   "nbconvert_exporter": "python",
   "pygments_lexer": "ipython3",
   "version": "3.6.9"
  }
 },
 "nbformat": 4,
 "nbformat_minor": 4
}
